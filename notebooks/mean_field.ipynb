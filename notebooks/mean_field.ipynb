{
 "cells": [
  {
   "cell_type": "markdown",
   "metadata": {},
   "source": [
    "# Mean Field approximation\n",
    "Mean Field is the most relaxed, therefore, the most rough estimate of the dynamical process within the three approximation frameworks (`ApproximateMasterEquation`, `PairApproximation` and `MeanField`). Where we assume that the states of each node in the network are independent. In the Mean Field approximation we consider following relations:\n",
    " - $x^i_k(t)$ - expected fraction of nodes in state i of degree k at time t  \n",
    " - $\\omega^j(t) = \\sum_{k=0}^{\\infty} \\frac{kp_k}{<k>} x^j_k(t)$ - probability that the neighbor of a node is in state j\n",
    " at time t   \n",
    " - $Mult_k(m, t) = \\frac{k!}{m_0!...m_{n-1}!}(\\omega^0(t))^{m_0}...(\\omega^{n-1}(t))^{m_{n-1}}$ - probability that a k-degree node\n",
    " has m-neighbor in various states at time t \n",
    "\n",
    "The Mean Field evolution equation for $x^i_k(t)$ is:\n",
    "\n",
    "$$\\frac{d}{dt}x^i_k = - \\sum_{j \\neq i}x^i_k\\sum_{|m|=k}Mult(m, t)F_m(i\\rightarrow j) + \n",
    "\\sum_{j\\neq i}x^j_k\\sum_{|m|=k}Mult(m, t)F_m(j\\rightarrow i)$$\n",
    "\n",
    "Or having the matrix notation:\n",
    "\n",
    "$$\\frac{d}{dt}\\mathbf{x}^k = \\sum_{|m|=k}(\\mathbf{R_m} - \\mathbf{F_m^\\intercal})Mult(m, t)\\mathbf{x}^k$$\n",
    "\n",
    "Where $\\mathbf{x}^k(t)$ is a `n x 1` vector whose *i*th entry is $x^i_k(t)$. $\\mathbf{F_m^\\intercal}$ is the matrix `n x n` with the rate functions $\\big(F_m\\big)_{ij}=F_m(i{\\rightarrow}j)$ and $\\mathbf{R_m}$ is the diagonal matrix with elements $\\big(R_m\\big)_{ii} = \\sum_{j=1}^n F_m(i{\\rightarrow}j)$."
   ]
  },
  {
   "cell_type": "markdown",
   "metadata": {},
   "source": [
    ">To recap, we have derived the AME, PA, and MF approximation frameworks by\n",
    "making a series of progressively stronger assumptions. The AME assumes that the transition rate of the neighbor of a given node is independent of the states of all other neighbors of the node. Note also that by closing the AME system of equations we explicitly assume independence between a node and all other nodes in the network beyond its nearest neighbors (i.e., an absence of long range correlations). The PA brings the level of approximation a step further by assuming that the state of the neighbor of a node is independent of the states of all other neighbors of the node, while the MF makes the strongest possible assumption with the ansatz that the state of every node in the network is independent. [1]"
   ]
  },
  {
   "cell_type": "markdown",
   "metadata": {},
   "source": [
    "## References\n",
    "[1] Peter G. Fennell, James P. Gleeson, Multistate dynamical processes on networks: Analysis through degree-based \n",
    "approximation frameworks, [arXiv:1709.09969](https://arxiv.org/abs/1709.09969) [physics.soc-ph]\n",
    "\n",
    "[2] Wikipedia, the free encyclopedia, Mean field theory, Springer; https://en.wikipedia.org/wiki/Mean_field_theory\n",
    "\n",
    "[1] Newman, M. E. J. (2010), Networks: an introduction, Oxford University Press, Oxford; New York"
   ]
  }
 ],
 "metadata": {
  "kernelspec": {
   "display_name": "Python 3",
   "language": "python",
   "name": "python3"
  },
  "language_info": {
   "codemirror_mode": {
    "name": "ipython",
    "version": 3
   },
   "file_extension": ".py",
   "mimetype": "text/x-python",
   "name": "python",
   "nbconvert_exporter": "python",
   "pygments_lexer": "ipython3",
   "version": "3.6.4"
  }
 },
 "nbformat": 4,
 "nbformat_minor": 2
}
